{
 "cells": [
  {
   "cell_type": "markdown",
   "id": "8df4f1ae",
   "metadata": {},
   "source": [
    "# Description"
   ]
  },
  {
   "cell_type": "markdown",
   "id": "331d4f66",
   "metadata": {},
   "source": [
    "The online presence of restaurants gives them chance to reach more and more customers. Nowadays restaurants want to understand people’s opinions about their food and service. It helps them to know what customers are thinking about their restaurant? Restaurants can quantify the customer opinion and analyze the data you can quantify such information with good accuracy using sentiment analysis.\n",
    "\n",
    "Traditionally, people take suggestions from acquaintances, friends, and family. But in the 21st-century internet has become one of the most important platforms for seeking advice. On these online platforms, Customer can also share their feedback and view other people’s feedback about restaurant service, food, taste, ambiance, and price. These reviews help customers to make the decision for choosing the restaurant and make a trust because it is based on mouth publicity"
   ]
  },
  {
   "cell_type": "markdown",
   "id": "5a62336d",
   "metadata": {},
   "source": [
    "# Restaurant Reviews Analysis"
   ]
  },
  {
   "cell_type": "markdown",
   "id": "2d79cad9",
   "metadata": {},
   "source": [
    "We will be dealing with the Restaurant reviews dataset. In this dataset, there are reviews from the customers which are either positive or negative. And now we are going to build a machine learning model using both Support Vector Classifier(SVC) and Count Vectorizer methods. And finally, this model is going to predict whether the given review is either positive or negative."
   ]
  },
  {
   "cell_type": "markdown",
   "id": "4bf12d32",
   "metadata": {},
   "source": [
    "# Loading Data"
   ]
  },
  {
   "cell_type": "markdown",
   "id": "8cfd7580",
   "metadata": {},
   "source": [
    "In this Project, you will perform text analytics and sentiment analysis on restaurants reviews using Text Classification.\n",
    "\n",
    "Here, you can use the “Restaurants Reviews” dataset available on Kaggle. The dataset is a tab-separated file. Dataset has two columns Review and Liked.\n",
    "\n",
    "This data has 2 sentiment labels:\n",
    "\n",
    "0 — Not liked 1 — Liked\n",
    "\n",
    "We have to import some basic important libraries before working on the machine learning model."
   ]
  },
  {
   "cell_type": "code",
   "execution_count": 1,
   "id": "bd512608",
   "metadata": {},
   "outputs": [],
   "source": [
    "import pandas as pd\n",
    "import numpy as np\n",
    "import matplotlib.pyplot as plt\n",
    "import seaborn as sns"
   ]
  },
  {
   "cell_type": "markdown",
   "id": "8d657145",
   "metadata": {},
   "source": [
    "Next, we have to create a data frame. Download the dataset which was shown previously. And create using pandas."
   ]
  },
  {
   "cell_type": "code",
   "execution_count": 2,
   "id": "689517df",
   "metadata": {},
   "outputs": [
    {
     "data": {
      "text/html": [
       "<div>\n",
       "<style scoped>\n",
       "    .dataframe tbody tr th:only-of-type {\n",
       "        vertical-align: middle;\n",
       "    }\n",
       "\n",
       "    .dataframe tbody tr th {\n",
       "        vertical-align: top;\n",
       "    }\n",
       "\n",
       "    .dataframe thead th {\n",
       "        text-align: right;\n",
       "    }\n",
       "</style>\n",
       "<table border=\"1\" class=\"dataframe\">\n",
       "  <thead>\n",
       "    <tr style=\"text-align: right;\">\n",
       "      <th></th>\n",
       "      <th>Review</th>\n",
       "      <th>Liked</th>\n",
       "    </tr>\n",
       "  </thead>\n",
       "  <tbody>\n",
       "    <tr>\n",
       "      <th>0</th>\n",
       "      <td>Wow... Loved this place.</td>\n",
       "      <td>1</td>\n",
       "    </tr>\n",
       "    <tr>\n",
       "      <th>1</th>\n",
       "      <td>Crust is not good.</td>\n",
       "      <td>0</td>\n",
       "    </tr>\n",
       "    <tr>\n",
       "      <th>2</th>\n",
       "      <td>Not tasty and the texture was just nasty.</td>\n",
       "      <td>0</td>\n",
       "    </tr>\n",
       "    <tr>\n",
       "      <th>3</th>\n",
       "      <td>Stopped by during the late May bank holiday of...</td>\n",
       "      <td>1</td>\n",
       "    </tr>\n",
       "    <tr>\n",
       "      <th>4</th>\n",
       "      <td>The selection on the menu was great and so wer...</td>\n",
       "      <td>1</td>\n",
       "    </tr>\n",
       "  </tbody>\n",
       "</table>\n",
       "</div>"
      ],
      "text/plain": [
       "                                              Review  Liked\n",
       "0                           Wow... Loved this place.      1\n",
       "1                                 Crust is not good.      0\n",
       "2          Not tasty and the texture was just nasty.      0\n",
       "3  Stopped by during the late May bank holiday of...      1\n",
       "4  The selection on the menu was great and so wer...      1"
      ]
     },
     "execution_count": 2,
     "metadata": {},
     "output_type": "execute_result"
    }
   ],
   "source": [
    "#import Restaurant Data Set\n",
    "Restaurant_data=pd.read_csv('Restaurant_Reviews.tsv', sep='\\t')\n",
    "Restaurant_data.head()"
   ]
  },
  {
   "cell_type": "code",
   "execution_count": 3,
   "id": "f2e2fa81",
   "metadata": {},
   "outputs": [
    {
     "data": {
      "text/html": [
       "<div>\n",
       "<style scoped>\n",
       "    .dataframe tbody tr th:only-of-type {\n",
       "        vertical-align: middle;\n",
       "    }\n",
       "\n",
       "    .dataframe tbody tr th {\n",
       "        vertical-align: top;\n",
       "    }\n",
       "\n",
       "    .dataframe thead th {\n",
       "        text-align: right;\n",
       "    }\n",
       "</style>\n",
       "<table border=\"1\" class=\"dataframe\">\n",
       "  <thead>\n",
       "    <tr style=\"text-align: right;\">\n",
       "      <th></th>\n",
       "      <th>Review</th>\n",
       "      <th>Liked</th>\n",
       "    </tr>\n",
       "  </thead>\n",
       "  <tbody>\n",
       "    <tr>\n",
       "      <th>995</th>\n",
       "      <td>I think food should have flavor and texture an...</td>\n",
       "      <td>0</td>\n",
       "    </tr>\n",
       "    <tr>\n",
       "      <th>996</th>\n",
       "      <td>Appetite instantly gone.</td>\n",
       "      <td>0</td>\n",
       "    </tr>\n",
       "    <tr>\n",
       "      <th>997</th>\n",
       "      <td>Overall I was not impressed and would not go b...</td>\n",
       "      <td>0</td>\n",
       "    </tr>\n",
       "    <tr>\n",
       "      <th>998</th>\n",
       "      <td>The whole experience was underwhelming, and I ...</td>\n",
       "      <td>0</td>\n",
       "    </tr>\n",
       "    <tr>\n",
       "      <th>999</th>\n",
       "      <td>Then, as if I hadn't wasted enough of my life ...</td>\n",
       "      <td>0</td>\n",
       "    </tr>\n",
       "  </tbody>\n",
       "</table>\n",
       "</div>"
      ],
      "text/plain": [
       "                                                Review  Liked\n",
       "995  I think food should have flavor and texture an...      0\n",
       "996                           Appetite instantly gone.      0\n",
       "997  Overall I was not impressed and would not go b...      0\n",
       "998  The whole experience was underwhelming, and I ...      0\n",
       "999  Then, as if I hadn't wasted enough of my life ...      0"
      ]
     },
     "execution_count": 3,
     "metadata": {},
     "output_type": "execute_result"
    }
   ],
   "source": [
    "Restaurant_data.tail()"
   ]
  },
  {
   "cell_type": "markdown",
   "id": "364da37c",
   "metadata": {},
   "source": [
    "value_counts() method gives the number of times the particular value repeated in that column through the data frame."
   ]
  },
  {
   "cell_type": "code",
   "execution_count": 4,
   "id": "b83f5bfc",
   "metadata": {},
   "outputs": [
    {
     "name": "stdout",
     "output_type": "stream",
     "text": [
      "1    500\n",
      "0    500\n",
      "Name: Liked, dtype: int64\n"
     ]
    }
   ],
   "source": [
    "print(Restaurant_data.Liked.value_counts())"
   ]
  },
  {
   "cell_type": "code",
   "execution_count": 5,
   "id": "a6afef7b",
   "metadata": {},
   "outputs": [
    {
     "data": {
      "text/plain": [
       "1    500\n",
       "0    500\n",
       "Name: Liked, dtype: int64"
      ]
     },
     "execution_count": 5,
     "metadata": {},
     "output_type": "execute_result"
    }
   ],
   "source": [
    "Restaurant_data['Liked'].value_counts()"
   ]
  },
  {
   "cell_type": "markdown",
   "id": "7f25c8c4",
   "metadata": {},
   "source": [
    "In this dataset, we have two columns Review and Liked. Review is the restaurant review and Liked is the sentiment 0 and 1. 1 means the customer has liked the restaurant and 0 means not liked."
   ]
  },
  {
   "cell_type": "markdown",
   "id": "80d128dc",
   "metadata": {},
   "source": [
    "# Schema of dataset"
   ]
  },
  {
   "cell_type": "markdown",
   "id": "683b9607",
   "metadata": {},
   "source": [
    "View baisc information about rows,columns and datatypes using (.info) method"
   ]
  },
  {
   "cell_type": "markdown",
   "id": "6ec84aa1",
   "metadata": {},
   "source": [
    "info() method gives the information about the data frame. I will give the number of columns, column labels, number of non-null entries, the data type of the column, memory usage"
   ]
  },
  {
   "cell_type": "code",
   "execution_count": 6,
   "id": "ac00f996",
   "metadata": {},
   "outputs": [
    {
     "name": "stdout",
     "output_type": "stream",
     "text": [
      "<class 'pandas.core.frame.DataFrame'>\n",
      "RangeIndex: 1000 entries, 0 to 999\n",
      "Data columns (total 2 columns):\n",
      " #   Column  Non-Null Count  Dtype \n",
      "---  ------  --------------  ----- \n",
      " 0   Review  1000 non-null   object\n",
      " 1   Liked   1000 non-null   int64 \n",
      "dtypes: int64(1), object(1)\n",
      "memory usage: 15.8+ KB\n"
     ]
    }
   ],
   "source": [
    "Restaurant_data.info()"
   ]
  },
  {
   "cell_type": "markdown",
   "id": "cdb9d674",
   "metadata": {},
   "source": [
    "# Numerical/Statistical analysis of the dataset"
   ]
  },
  {
   "cell_type": "markdown",
   "id": "d2b5d614",
   "metadata": {},
   "source": [
    "It appears that each column contains values of a specific data type for the numeric columns you can view the some statiscal information like mean,standard deviation,minimum/maximum values and number of non-empty values using te (.describe) method"
   ]
  },
  {
   "cell_type": "code",
   "execution_count": 7,
   "id": "b65ae703",
   "metadata": {},
   "outputs": [
    {
     "data": {
      "text/html": [
       "<div>\n",
       "<style scoped>\n",
       "    .dataframe tbody tr th:only-of-type {\n",
       "        vertical-align: middle;\n",
       "    }\n",
       "\n",
       "    .dataframe tbody tr th {\n",
       "        vertical-align: top;\n",
       "    }\n",
       "\n",
       "    .dataframe thead th {\n",
       "        text-align: right;\n",
       "    }\n",
       "</style>\n",
       "<table border=\"1\" class=\"dataframe\">\n",
       "  <thead>\n",
       "    <tr style=\"text-align: right;\">\n",
       "      <th></th>\n",
       "      <th>Liked</th>\n",
       "    </tr>\n",
       "  </thead>\n",
       "  <tbody>\n",
       "    <tr>\n",
       "      <th>count</th>\n",
       "      <td>1000.00000</td>\n",
       "    </tr>\n",
       "    <tr>\n",
       "      <th>mean</th>\n",
       "      <td>0.50000</td>\n",
       "    </tr>\n",
       "    <tr>\n",
       "      <th>std</th>\n",
       "      <td>0.50025</td>\n",
       "    </tr>\n",
       "    <tr>\n",
       "      <th>min</th>\n",
       "      <td>0.00000</td>\n",
       "    </tr>\n",
       "    <tr>\n",
       "      <th>25%</th>\n",
       "      <td>0.00000</td>\n",
       "    </tr>\n",
       "    <tr>\n",
       "      <th>50%</th>\n",
       "      <td>0.50000</td>\n",
       "    </tr>\n",
       "    <tr>\n",
       "      <th>75%</th>\n",
       "      <td>1.00000</td>\n",
       "    </tr>\n",
       "    <tr>\n",
       "      <th>max</th>\n",
       "      <td>1.00000</td>\n",
       "    </tr>\n",
       "  </tbody>\n",
       "</table>\n",
       "</div>"
      ],
      "text/plain": [
       "            Liked\n",
       "count  1000.00000\n",
       "mean      0.50000\n",
       "std       0.50025\n",
       "min       0.00000\n",
       "25%       0.00000\n",
       "50%       0.50000\n",
       "75%       1.00000\n",
       "max       1.00000"
      ]
     },
     "execution_count": 7,
     "metadata": {},
     "output_type": "execute_result"
    }
   ],
   "source": [
    "Restaurant_data.describe()"
   ]
  },
  {
   "cell_type": "markdown",
   "id": "561de302",
   "metadata": {},
   "source": [
    "It will give total count, mean, standard deviation, minimum value, maximum value, 25% of data, 50% of data, 75% of data."
   ]
  },
  {
   "cell_type": "markdown",
   "id": "7fc2addb",
   "metadata": {},
   "source": [
    "Let’s see the total columns in the Restaurant_data"
   ]
  },
  {
   "cell_type": "code",
   "execution_count": 8,
   "id": "f2e30f0d",
   "metadata": {},
   "outputs": [
    {
     "data": {
      "text/html": [
       "<div>\n",
       "<style scoped>\n",
       "    .dataframe tbody tr th:only-of-type {\n",
       "        vertical-align: middle;\n",
       "    }\n",
       "\n",
       "    .dataframe tbody tr th {\n",
       "        vertical-align: top;\n",
       "    }\n",
       "\n",
       "    .dataframe thead th {\n",
       "        text-align: right;\n",
       "    }\n",
       "</style>\n",
       "<table border=\"1\" class=\"dataframe\">\n",
       "  <thead>\n",
       "    <tr style=\"text-align: right;\">\n",
       "      <th></th>\n",
       "      <th>Review</th>\n",
       "      <th>Liked</th>\n",
       "    </tr>\n",
       "  </thead>\n",
       "  <tbody>\n",
       "    <tr>\n",
       "      <th>0</th>\n",
       "      <td>Wow... Loved this place.</td>\n",
       "      <td>1</td>\n",
       "    </tr>\n",
       "    <tr>\n",
       "      <th>1</th>\n",
       "      <td>Crust is not good.</td>\n",
       "      <td>0</td>\n",
       "    </tr>\n",
       "    <tr>\n",
       "      <th>2</th>\n",
       "      <td>Not tasty and the texture was just nasty.</td>\n",
       "      <td>0</td>\n",
       "    </tr>\n",
       "    <tr>\n",
       "      <th>3</th>\n",
       "      <td>Stopped by during the late May bank holiday of...</td>\n",
       "      <td>1</td>\n",
       "    </tr>\n",
       "    <tr>\n",
       "      <th>4</th>\n",
       "      <td>The selection on the menu was great and so wer...</td>\n",
       "      <td>1</td>\n",
       "    </tr>\n",
       "    <tr>\n",
       "      <th>...</th>\n",
       "      <td>...</td>\n",
       "      <td>...</td>\n",
       "    </tr>\n",
       "    <tr>\n",
       "      <th>995</th>\n",
       "      <td>I think food should have flavor and texture an...</td>\n",
       "      <td>0</td>\n",
       "    </tr>\n",
       "    <tr>\n",
       "      <th>996</th>\n",
       "      <td>Appetite instantly gone.</td>\n",
       "      <td>0</td>\n",
       "    </tr>\n",
       "    <tr>\n",
       "      <th>997</th>\n",
       "      <td>Overall I was not impressed and would not go b...</td>\n",
       "      <td>0</td>\n",
       "    </tr>\n",
       "    <tr>\n",
       "      <th>998</th>\n",
       "      <td>The whole experience was underwhelming, and I ...</td>\n",
       "      <td>0</td>\n",
       "    </tr>\n",
       "    <tr>\n",
       "      <th>999</th>\n",
       "      <td>Then, as if I hadn't wasted enough of my life ...</td>\n",
       "      <td>0</td>\n",
       "    </tr>\n",
       "  </tbody>\n",
       "</table>\n",
       "<p>996 rows × 2 columns</p>\n",
       "</div>"
      ],
      "text/plain": [
       "                                                Review  Liked\n",
       "0                             Wow... Loved this place.      1\n",
       "1                                   Crust is not good.      0\n",
       "2            Not tasty and the texture was just nasty.      0\n",
       "3    Stopped by during the late May bank holiday of...      1\n",
       "4    The selection on the menu was great and so wer...      1\n",
       "..                                                 ...    ...\n",
       "995  I think food should have flavor and texture an...      0\n",
       "996                           Appetite instantly gone.      0\n",
       "997  Overall I was not impressed and would not go b...      0\n",
       "998  The whole experience was underwhelming, and I ...      0\n",
       "999  Then, as if I hadn't wasted enough of my life ...      0\n",
       "\n",
       "[996 rows x 2 columns]"
      ]
     },
     "execution_count": 8,
     "metadata": {},
     "output_type": "execute_result"
    }
   ],
   "source": [
    "Restaurant_data = Restaurant_data.drop_duplicates(keep = 'last') #remove all duplicate emails from the dataframe\n",
    "Restaurant_data"
   ]
  },
  {
   "cell_type": "code",
   "execution_count": 9,
   "id": "60be776a",
   "metadata": {},
   "outputs": [
    {
     "data": {
      "text/plain": [
       "\"I also had to taste my Mom's multi-grain pumpkin pancakes with pecan butter and they were amazing, fluffy, and delicious!\""
      ]
     },
     "execution_count": 9,
     "metadata": {},
     "output_type": "execute_result"
    }
   ],
   "source": [
    "Restaurant_data['Review'][500]"
   ]
  },
  {
   "cell_type": "code",
   "execution_count": 10,
   "id": "8ec65e2c",
   "metadata": {},
   "outputs": [
    {
     "data": {
      "text/plain": [
       "1"
      ]
     },
     "execution_count": 10,
     "metadata": {},
     "output_type": "execute_result"
    }
   ],
   "source": [
    "Restaurant_data['Liked'][500]"
   ]
  },
  {
   "cell_type": "code",
   "execution_count": 11,
   "id": "645f3cc2",
   "metadata": {},
   "outputs": [
    {
     "data": {
      "text/plain": [
       "Index(['Review', 'Liked'], dtype='object')"
      ]
     },
     "execution_count": 11,
     "metadata": {},
     "output_type": "execute_result"
    }
   ],
   "source": [
    "Restaurant_data.columns"
   ]
  },
  {
   "cell_type": "markdown",
   "id": "f129bdd6",
   "metadata": {},
   "source": [
    "nunique() method gives the number of unique values in the particular column"
   ]
  },
  {
   "cell_type": "code",
   "execution_count": 12,
   "id": "9bba0366",
   "metadata": {},
   "outputs": [
    {
     "data": {
      "text/plain": [
       "array([1, 0], dtype=int64)"
      ]
     },
     "execution_count": 12,
     "metadata": {},
     "output_type": "execute_result"
    }
   ],
   "source": [
    "Restaurant_data['Liked'].unique()"
   ]
  },
  {
   "cell_type": "markdown",
   "id": "c1c11737",
   "metadata": {},
   "source": [
    "unique() method gives unique values in the particular column."
   ]
  },
  {
   "cell_type": "code",
   "execution_count": 13,
   "id": "978cbf82",
   "metadata": {},
   "outputs": [
    {
     "name": "stdout",
     "output_type": "stream",
     "text": [
      "[1 0]\n"
     ]
    }
   ],
   "source": [
    "print(Restaurant_data['Liked'].unique())"
   ]
  },
  {
   "cell_type": "markdown",
   "id": "bacacc23",
   "metadata": {},
   "source": [
    "# Visualization"
   ]
  },
  {
   "cell_type": "markdown",
   "id": "2182b332",
   "metadata": {},
   "source": [
    "Lest some visualization using seaborn liberary"
   ]
  },
  {
   "cell_type": "markdown",
   "id": "dc317c79",
   "metadata": {},
   "source": [
    "Here we used the seaborn library to visualize the data frame. This is a count plot where it counts the entries of the column and plots it."
   ]
  },
  {
   "cell_type": "code",
   "execution_count": 14,
   "id": "86a6c462",
   "metadata": {},
   "outputs": [
    {
     "data": {
      "image/png": "[encoded data removed]",
      "text/plain": [
       "<Figure size 576x360 with 1 Axes>"
      ]
     },
     "metadata": {
      "needs_background": "light"
     },
     "output_type": "display_data"
    }
   ],
   "source": [
    "plt.figure(figsize=(8,5))\n",
    "sns.countplot(x=Restaurant_data.Liked);"
   ]
  },
  {
   "cell_type": "markdown",
   "id": "eee67e25",
   "metadata": {},
   "source": [
    "# Define X and Y"
   ]
  },
  {
   "cell_type": "markdown",
   "id": "710ce6ed",
   "metadata": {},
   "source": [
    "Here, X is the input feature that we give to the model, and Y is the output that the model should predict. And coming to our dataset, the Review column is the input that we give, and Liked is going to be predicted by the model"
   ]
  },
  {
   "cell_type": "code",
   "execution_count": 15,
   "id": "95d62645",
   "metadata": {},
   "outputs": [],
   "source": [
    "x=Restaurant_data['Review'].values\n",
    "y=Restaurant_data['Liked'].values"
   ]
  },
  {
   "cell_type": "markdown",
   "id": "4f4f9690",
   "metadata": {},
   "source": [
    "# Split the Dataset into Training and Testing Sets"
   ]
  },
  {
   "cell_type": "markdown",
   "id": "27f128c2",
   "metadata": {},
   "source": [
    "For this, we have to import train_test_split from the scikit learn library. And then whole data frame is divided into four data sets. They are, x_train, x_test, y_train, y_test. Bot x and y are divided into training and test datasets."
   ]
  },
  {
   "cell_type": "code",
   "execution_count": 16,
   "id": "938c902a",
   "metadata": {},
   "outputs": [],
   "source": [
    "from sklearn.model_selection import train_test_split\n",
    "x_train,x_test,y_train,y_test=train_test_split(x,y,random_state=0)"
   ]
  },
  {
   "cell_type": "markdown",
   "id": "f118c977",
   "metadata": {},
   "source": [
    "# View the Shapes of Train Sets and Test Sets"
   ]
  },
  {
   "cell_type": "code",
   "execution_count": 17,
   "id": "d14fd6b1",
   "metadata": {},
   "outputs": [
    {
     "data": {
      "text/plain": [
       "(747,)"
      ]
     },
     "execution_count": 17,
     "metadata": {},
     "output_type": "execute_result"
    }
   ],
   "source": [
    "x_train.shape"
   ]
  },
  {
   "cell_type": "code",
   "execution_count": 18,
   "id": "c9909d2f",
   "metadata": {},
   "outputs": [
    {
     "data": {
      "text/plain": [
       "(249,)"
      ]
     },
     "execution_count": 18,
     "metadata": {},
     "output_type": "execute_result"
    }
   ],
   "source": [
    "x_test.shape"
   ]
  },
  {
   "cell_type": "code",
   "execution_count": 19,
   "id": "bf5a3776",
   "metadata": {},
   "outputs": [
    {
     "data": {
      "text/plain": [
       "(747,)"
      ]
     },
     "execution_count": 19,
     "metadata": {},
     "output_type": "execute_result"
    }
   ],
   "source": [
    "y_train.shape"
   ]
  },
  {
   "cell_type": "code",
   "execution_count": 20,
   "id": "8f575346",
   "metadata": {},
   "outputs": [
    {
     "data": {
      "text/plain": [
       "(249,)"
      ]
     },
     "execution_count": 20,
     "metadata": {},
     "output_type": "execute_result"
    }
   ],
   "source": [
    "y_test.shape"
   ]
  },
  {
   "cell_type": "markdown",
   "id": "814a457e",
   "metadata": {},
   "source": [
    "# Import CountVectorizer"
   ]
  },
  {
   "cell_type": "markdown",
   "id": "bd62e6c1",
   "metadata": {},
   "source": [
    "from the sci-kit learn library we have to import CountVectorizer. And then store it in a variable something like vect with setting stop_wors as “English”.\n",
    "\n",
    "This count vectorizer transforms the text into a vector based on the count of the words like the number of times the word is repeated in the sentence."
   ]
  },
  {
   "cell_type": "code",
   "execution_count": 21,
   "id": "350937b6",
   "metadata": {},
   "outputs": [],
   "source": [
    "from sklearn.feature_extraction.text import CountVectorizer\n",
    "vect=CountVectorizer(stop_words='english')"
   ]
  },
  {
   "cell_type": "code",
   "execution_count": 22,
   "id": "c1276863",
   "metadata": {},
   "outputs": [],
   "source": [
    "x_train_vect=vect.fit_transform(x_train)\n",
    "x_test_vect=vect.transform(x_test)"
   ]
  },
  {
   "cell_type": "code",
   "execution_count": 23,
   "id": "9ea25f78",
   "metadata": {},
   "outputs": [
    {
     "data": {
      "text/plain": [
       "array([[0, 0, 0, ..., 0, 0, 0],\n",
       "       [0, 0, 0, ..., 0, 0, 0],\n",
       "       [0, 0, 0, ..., 0, 0, 0],\n",
       "       ...,\n",
       "       [0, 0, 0, ..., 0, 0, 0],\n",
       "       [0, 0, 0, ..., 0, 0, 0],\n",
       "       [0, 0, 0, ..., 0, 0, 0]], dtype=int64)"
      ]
     },
     "execution_count": 23,
     "metadata": {},
     "output_type": "execute_result"
    }
   ],
   "source": [
    "x_train_vect.toarray()    #the text is converted to numerical values"
   ]
  },
  {
   "cell_type": "markdown",
   "id": "5b0235dc",
   "metadata": {},
   "source": [
    "# Methode-1"
   ]
  },
  {
   "cell_type": "markdown",
   "id": "d66dfc60",
   "metadata": {},
   "source": [
    "# Import Support Vector Classifier(SVC)"
   ]
  },
  {
   "cell_type": "markdown",
   "id": "9375d612",
   "metadata": {},
   "source": [
    "Import Support Vector Classifier(SVC) from Support Vector Machine (SVM) library and assign it to a variable called a model."
   ]
  },
  {
   "cell_type": "code",
   "execution_count": 24,
   "id": "1cdd9325",
   "metadata": {},
   "outputs": [],
   "source": [
    "from sklearn.svm import SVC\n",
    "model=SVC()\n"
   ]
  },
  {
   "cell_type": "markdown",
   "id": "a23d7fed",
   "metadata": {},
   "source": [
    "# Train the Model"
   ]
  },
  {
   "cell_type": "markdown",
   "id": "ac3adcf8",
   "metadata": {},
   "source": [
    "The fit method is used to train the model and we have to pass training datasets as arguments in it to train the model.\n"
   ]
  },
  {
   "cell_type": "code",
   "execution_count": 25,
   "id": "cda5271f",
   "metadata": {},
   "outputs": [
    {
     "data": {
      "text/plain": [
       "SVC()"
      ]
     },
     "execution_count": 25,
     "metadata": {},
     "output_type": "execute_result"
    }
   ],
   "source": [
    "model.fit(x_train_vect,y_train)"
   ]
  },
  {
   "cell_type": "markdown",
   "id": "ba6965a6",
   "metadata": {},
   "source": [
    "# Predict the Test Results"
   ]
  },
  {
   "cell_type": "markdown",
   "id": "07996ee1",
   "metadata": {},
   "source": [
    "Use predict method to predict the test results. Pass the x variables of the testing dataset in it."
   ]
  },
  {
   "cell_type": "code",
   "execution_count": 26,
   "id": "4bf95d1f",
   "metadata": {},
   "outputs": [],
   "source": [
    "y_pred=model.predict(x_test_vect)"
   ]
  },
  {
   "cell_type": "markdown",
   "id": "8e7bd5c5",
   "metadata": {},
   "source": [
    "# Evaluate the Model"
   ]
  },
  {
   "cell_type": "markdown",
   "id": "33c653b1",
   "metadata": {},
   "source": [
    "For machine learning models to evaluate it, we use variable methods and all these are in the metrics library and here for support vector classifier(svc), we use accuracy score to evaluate it.\n",
    "\n",
    "Import accuracy_score from scikit learn metrics library and then pass two arguments to which we have to compare and evaluate. Here predicted dataset and test dataset are taken to evaluate."
   ]
  },
  {
   "cell_type": "code",
   "execution_count": 27,
   "id": "56e677f8",
   "metadata": {},
   "outputs": [],
   "source": [
    "from sklearn.metrics import accuracy_score"
   ]
  },
  {
   "cell_type": "code",
   "execution_count": 28,
   "id": "b54d8356",
   "metadata": {},
   "outputs": [
    {
     "data": {
      "text/plain": [
       "0.7269076305220884"
      ]
     },
     "execution_count": 28,
     "metadata": {},
     "output_type": "execute_result"
    }
   ],
   "source": [
    "accuracy_score(y_pred,y_test)"
   ]
  },
  {
   "cell_type": "markdown",
   "id": "d6a22434",
   "metadata": {},
   "source": [
    "For my model, the accuracy is 72"
   ]
  },
  {
   "cell_type": "markdown",
   "id": "7e801706",
   "metadata": {},
   "source": [
    "# Methode-2"
   ]
  },
  {
   "cell_type": "markdown",
   "id": "5b7fd3de",
   "metadata": {},
   "source": [
    "using pipelines pipeline is used to combine multiple estimators/ combine two processes together\n",
    "\n",
    "SVC + countvectorizer if we use the pipeline we need not transform the values manually, pipelines take care of this"
   ]
  },
  {
   "cell_type": "code",
   "execution_count": 29,
   "id": "3cbed548",
   "metadata": {},
   "outputs": [
    {
     "data": {
      "text/plain": [
       "array([0, 1, 0, 0, 1, 0, 1, 0, 1, 1, 1, 1, 1, 1, 1, 0, 1, 1, 1, 0, 1, 1,\n",
       "       1, 1, 1, 0, 0, 1, 0, 0, 0, 1, 1, 1, 0, 0, 0, 1, 0, 0, 0, 0, 0, 1,\n",
       "       1, 0, 1, 1, 0, 0, 1, 1, 1, 0, 0, 1, 0, 0, 0, 1, 1, 0, 0, 1, 1, 1,\n",
       "       0, 0, 0, 1, 1, 1, 0, 0, 0, 0, 0, 0, 1, 1, 1, 0, 1, 0, 1, 0, 1, 1,\n",
       "       1, 0, 0, 1, 1, 0, 1, 0, 1, 1, 0, 1, 1, 0, 0, 0, 1, 0, 1, 0, 1, 0,\n",
       "       0, 1, 0, 0, 0, 1, 1, 1, 0, 1, 0, 0, 1, 1, 1, 0, 1, 0, 0, 0, 1, 1,\n",
       "       1, 1, 1, 1, 1, 1, 0, 0, 0, 0, 0, 1, 1, 1, 0, 1, 0, 1, 1, 1, 0, 0,\n",
       "       1, 1, 0, 0, 1, 0, 0, 0, 1, 0, 1, 1, 0, 1, 0, 1, 1, 0, 0, 1, 1, 0,\n",
       "       0, 1, 0, 0, 0, 1, 1, 0, 1, 1, 0, 0, 1, 1, 1, 1, 1, 1, 0, 0, 1, 1,\n",
       "       1, 1, 1, 0, 1, 0, 0, 1, 1, 0, 1, 1, 1, 0, 0, 0, 0, 0, 0, 1, 1, 0,\n",
       "       1, 1, 0, 1, 0, 1, 1, 1, 1, 0, 1, 0, 1, 1, 0, 1, 1, 0, 0, 0, 1, 1,\n",
       "       1, 0, 1, 0, 1, 0, 1], dtype=int64)"
      ]
     },
     "execution_count": 29,
     "metadata": {},
     "output_type": "execute_result"
    }
   ],
   "source": [
    "from sklearn.pipeline import make_pipeline \n",
    "model2 = make_pipeline(CountVectorizer(),SVC(C=10))\n",
    "\n",
    "model2.fit(x_train,y_train)\n",
    "y_pred2 = model2.predict(x_test)\n",
    "y_pred2"
   ]
  },
  {
   "cell_type": "code",
   "execution_count": 30,
   "id": "f28e8fa2",
   "metadata": {},
   "outputs": [
    {
     "data": {
      "text/plain": [
       "0.8514056224899599"
      ]
     },
     "execution_count": 30,
     "metadata": {},
     "output_type": "execute_result"
    }
   ],
   "source": [
    "accuracy_score(y_pred2,y_test)"
   ]
  },
  {
   "cell_type": "markdown",
   "id": "060017b5",
   "metadata": {},
   "source": [
    "# USING NAIVE BAYES"
   ]
  },
  {
   "cell_type": "code",
   "execution_count": 31,
   "id": "d3fa2c87",
   "metadata": {},
   "outputs": [],
   "source": [
    "from sklearn.naive_bayes import MultinomialNB\n",
    "model3 = MultinomialNB(alpha=1)"
   ]
  },
  {
   "cell_type": "code",
   "execution_count": 32,
   "id": "fcc758e0",
   "metadata": {},
   "outputs": [
    {
     "data": {
      "text/plain": [
       "MultinomialNB(alpha=1)"
      ]
     },
     "execution_count": 32,
     "metadata": {},
     "output_type": "execute_result"
    }
   ],
   "source": [
    "model3.fit(x_train_vect,y_train)"
   ]
  },
  {
   "cell_type": "code",
   "execution_count": 33,
   "id": "6c9142e9",
   "metadata": {},
   "outputs": [
    {
     "data": {
      "text/plain": [
       "array([0, 1, 0, 0, 1, 0, 1, 0, 1, 1, 1, 1, 0, 1, 0, 0, 1, 0, 1, 0, 1, 1,\n",
       "       1, 0, 1, 0, 0, 1, 1, 0, 0, 0, 1, 1, 0, 0, 0, 1, 0, 0, 1, 1, 0, 1,\n",
       "       1, 0, 0, 1, 0, 0, 1, 1, 0, 0, 0, 1, 0, 1, 0, 1, 1, 0, 0, 1, 1, 1,\n",
       "       1, 0, 0, 0, 1, 1, 0, 0, 0, 0, 0, 0, 1, 1, 1, 0, 1, 0, 1, 0, 0, 1,\n",
       "       1, 0, 1, 1, 1, 1, 1, 0, 1, 1, 0, 1, 1, 0, 0, 0, 0, 0, 1, 0, 1, 0,\n",
       "       0, 1, 0, 1, 0, 1, 1, 1, 0, 0, 1, 0, 0, 0, 1, 0, 1, 0, 0, 0, 1, 1,\n",
       "       1, 1, 0, 1, 1, 1, 0, 0, 1, 0, 1, 0, 1, 0, 0, 1, 0, 1, 1, 0, 0, 0,\n",
       "       1, 1, 0, 1, 1, 0, 1, 0, 1, 0, 0, 1, 1, 1, 0, 1, 1, 1, 0, 1, 1, 1,\n",
       "       0, 0, 0, 1, 0, 0, 1, 0, 1, 0, 1, 0, 1, 1, 1, 1, 1, 1, 0, 1, 1, 1,\n",
       "       1, 1, 1, 0, 1, 0, 0, 1, 1, 0, 1, 1, 1, 0, 1, 1, 1, 1, 0, 1, 0, 1,\n",
       "       1, 0, 1, 1, 1, 1, 1, 0, 1, 0, 0, 0, 1, 1, 0, 1, 1, 1, 0, 0, 1, 1,\n",
       "       1, 0, 1, 1, 0, 0, 1], dtype=int64)"
      ]
     },
     "execution_count": 33,
     "metadata": {},
     "output_type": "execute_result"
    }
   ],
   "source": [
    "y_pred3 = model3.predict(x_test_vect)\n",
    "y_pred3"
   ]
  },
  {
   "cell_type": "code",
   "execution_count": 34,
   "id": "48f92ac6",
   "metadata": {},
   "outputs": [
    {
     "data": {
      "text/plain": [
       "0.7469879518072289"
      ]
     },
     "execution_count": 34,
     "metadata": {},
     "output_type": "execute_result"
    }
   ],
   "source": [
    "accuracy_score(y_pred3,y_test)"
   ]
  },
  {
   "cell_type": "markdown",
   "id": "33617ee5",
   "metadata": {},
   "source": [
    "# Methode-4"
   ]
  },
  {
   "cell_type": "markdown",
   "id": "c9217245",
   "metadata": {},
   "source": [
    "NB + Countvectorizer pipeline"
   ]
  },
  {
   "cell_type": "code",
   "execution_count": 35,
   "id": "4226a232",
   "metadata": {},
   "outputs": [
    {
     "data": {
      "text/plain": [
       "array([0, 1, 0, 0, 1, 0, 1, 0, 1, 1, 0, 1, 0, 1, 0, 0, 1, 0, 1, 0, 1, 1,\n",
       "       1, 0, 1, 0, 0, 1, 0, 0, 0, 0, 1, 1, 0, 0, 1, 1, 0, 0, 1, 1, 0, 1,\n",
       "       1, 0, 1, 1, 0, 0, 1, 1, 0, 0, 0, 1, 0, 0, 0, 1, 1, 0, 0, 1, 1, 1,\n",
       "       0, 0, 0, 1, 1, 1, 0, 0, 0, 1, 0, 0, 1, 1, 1, 0, 1, 0, 1, 0, 1, 1,\n",
       "       1, 0, 0, 1, 0, 0, 1, 0, 1, 1, 0, 1, 1, 0, 0, 0, 1, 0, 1, 0, 1, 0,\n",
       "       0, 0, 0, 0, 0, 1, 1, 1, 0, 0, 0, 0, 1, 0, 1, 0, 1, 0, 0, 1, 1, 1,\n",
       "       1, 1, 0, 1, 0, 1, 0, 0, 0, 0, 1, 0, 1, 0, 0, 1, 0, 1, 1, 0, 0, 0,\n",
       "       1, 1, 0, 1, 1, 0, 0, 0, 1, 0, 1, 1, 0, 1, 0, 1, 1, 0, 0, 1, 1, 1,\n",
       "       0, 0, 0, 0, 0, 1, 0, 0, 1, 1, 0, 0, 1, 1, 1, 1, 1, 0, 0, 1, 1, 1,\n",
       "       1, 1, 1, 0, 1, 0, 0, 1, 1, 0, 1, 1, 1, 1, 0, 0, 0, 0, 0, 1, 1, 0,\n",
       "       1, 1, 0, 1, 1, 1, 1, 0, 1, 0, 0, 0, 1, 1, 0, 1, 1, 0, 0, 0, 1, 1,\n",
       "       1, 0, 1, 1, 0, 0, 1], dtype=int64)"
      ]
     },
     "execution_count": 35,
     "metadata": {},
     "output_type": "execute_result"
    }
   ],
   "source": [
    "from sklearn.pipeline import make_pipeline \n",
    "model4 = make_pipeline(CountVectorizer(),MultinomialNB(alpha=2))\n",
    "\n",
    "model4.fit(x_train,y_train)\n",
    "y_pred4 = model4.predict(x_test)\n",
    "y_pred4"
   ]
  },
  {
   "cell_type": "code",
   "execution_count": 36,
   "id": "2362f152",
   "metadata": {},
   "outputs": [
    {
     "data": {
      "text/plain": [
       "0.7951807228915663"
      ]
     },
     "execution_count": 36,
     "metadata": {},
     "output_type": "execute_result"
    }
   ],
   "source": [
    "accuracy_score(y_pred4,y_test)"
   ]
  },
  {
   "cell_type": "markdown",
   "id": "a165356a",
   "metadata": {},
   "source": [
    "# Save the Model"
   ]
  },
  {
   "cell_type": "markdown",
   "id": "b7a62c5e",
   "metadata": {},
   "source": [
    "We can save the model and for that, we have to use joblib. Import joblib and using dump method we can save it. We have to pass two arguments in it. one is the model and the other is the name of our file."
   ]
  },
  {
   "cell_type": "code",
   "execution_count": 37,
   "id": "9e8254dc",
   "metadata": {},
   "outputs": [],
   "source": [
    "import joblib"
   ]
  },
  {
   "cell_type": "code",
   "execution_count": 38,
   "id": "413ad003",
   "metadata": {},
   "outputs": [
    {
     "data": {
      "text/plain": [
       "['Project']"
      ]
     },
     "execution_count": 38,
     "metadata": {},
     "output_type": "execute_result"
    }
   ],
   "source": [
    "joblib.dump(model4,'Project')"
   ]
  },
  {
   "cell_type": "markdown",
   "id": "c25e185e",
   "metadata": {},
   "source": [
    "And again to use it we have to use the load method. We can retrieve it using the load method and save it to a variable."
   ]
  },
  {
   "cell_type": "code",
   "execution_count": 39,
   "id": "2847f971",
   "metadata": {},
   "outputs": [],
   "source": [
    "import joblib\n",
    "model2=joblib.load('Project')"
   ]
  },
  {
   "cell_type": "markdown",
   "id": "85f4d1e0",
   "metadata": {},
   "source": [
    "# Prediction of New Reviews using the Model"
   ]
  },
  {
   "cell_type": "markdown",
   "id": "70d6f350",
   "metadata": {},
   "source": [
    "Now our model is well trained and ready for implementation. Let us try with some examples."
   ]
  },
  {
   "cell_type": "code",
   "execution_count": 40,
   "id": "56b42a91",
   "metadata": {},
   "outputs": [
    {
     "data": {
      "text/plain": [
       "array([1], dtype=int64)"
      ]
     },
     "execution_count": 40,
     "metadata": {},
     "output_type": "execute_result"
    }
   ],
   "source": [
    "model2.predict(['hello!!Love Your Food'])\n"
   ]
  },
  {
   "cell_type": "markdown",
   "id": "d3fc925b",
   "metadata": {},
   "source": [
    "Here the review is a positive review and as expected our model predicted 1 for it which means positive."
   ]
  },
  {
   "cell_type": "markdown",
   "id": "a229935c",
   "metadata": {},
   "source": [
    "Let’s try with a negative review and see what it will predict."
   ]
  },
  {
   "cell_type": "code",
   "execution_count": 41,
   "id": "f93fd7d6",
   "metadata": {},
   "outputs": [
    {
     "data": {
      "text/plain": [
       "array([0], dtype=int64)"
      ]
     },
     "execution_count": 41,
     "metadata": {},
     "output_type": "execute_result"
    }
   ],
   "source": [
    "model2.predict([\"omg!!it was too spice and i asked you don't add too much \"])"
   ]
  },
  {
   "cell_type": "markdown",
   "id": "0f662239",
   "metadata": {},
   "source": [
    "As expected it gave 0 as output which means negative."
   ]
  },
  {
   "cell_type": "code",
   "execution_count": 42,
   "id": "9da00112",
   "metadata": {},
   "outputs": [
    {
     "name": "stdout",
     "output_type": "stream",
     "text": [
      "Overwriting app.py\n"
     ]
    }
   ],
   "source": [
    "%%writefile app.py \n",
    "import streamlit as st \n",
    "import joblib \n",
    "st.title(\"Restaurant Reviews\")\n",
    "model2 = joblib.load('Project')\n",
    "ip = st.text_input(\"Enter the Review :\")\n",
    "op = model2.predict([ip])\n",
    "\n",
    "def main():       \n",
    "    # front end elements of the web page \n",
    "    html_temp = \"\"\" \n",
    "    <div style =\"background-color:yellow;padding:13px\"> \n",
    "    <h1 style =\"color:black;text-align:center;\">Streamlit Loan Prediction ML App</h1> \n",
    "    </div> \n",
    "    \"\"\"\n",
    "      \n",
    "    # display the front end aspect\n",
    "    st.markdown(html_temp, unsafe_allow_html = True) \n",
    "# review = ['Positive','Negative'] #you can add this line extra to print the text as the output\n",
    "if st.button('PREDICT'):\n",
    "  st.title(op[0])\n",
    "    \n",
    "if __name__=='__main__': \n",
    "    main()    \n"
   ]
  },
  {
   "cell_type": "code",
   "execution_count": null,
   "id": "5a6f1b51",
   "metadata": {},
   "outputs": [],
   "source": [
    "!streamlit run app.py & npx localtunnel 8501"
   ]
  },
  {
   "cell_type": "code",
   "execution_count": null,
   "id": "8af3677b",
   "metadata": {},
   "outputs": [],
   "source": []
  },
  {
   "cell_type": "code",
   "execution_count": null,
   "id": "9cf177ee",
   "metadata": {},
   "outputs": [],
   "source": []
  },
  {
   "cell_type": "code",
   "execution_count": null,
   "id": "41cc379f",
   "metadata": {},
   "outputs": [],
   "source": []
  },
  {
   "cell_type": "code",
   "execution_count": null,
   "id": "8ab47d39",
   "metadata": {},
   "outputs": [],
   "source": []
  },
  {
   "cell_type": "code",
   "execution_count": null,
   "id": "b761d120",
   "metadata": {},
   "outputs": [],
   "source": []
  },
  {
   "cell_type": "code",
   "execution_count": null,
   "id": "68c4a522",
   "metadata": {},
   "outputs": [],
   "source": []
  },
  {
   "cell_type": "code",
   "execution_count": null,
   "id": "e4a7c069",
   "metadata": {},
   "outputs": [],
   "source": []
  },
  {
   "cell_type": "code",
   "execution_count": null,
   "id": "3976f804",
   "metadata": {},
   "outputs": [],
   "source": []
  },
  {
   "cell_type": "code",
   "execution_count": null,
   "id": "266434f0",
   "metadata": {},
   "outputs": [],
   "source": []
  },
  {
   "cell_type": "code",
   "execution_count": null,
   "id": "e48cf0a9",
   "metadata": {},
   "outputs": [],
   "source": []
  },
  {
   "cell_type": "code",
   "execution_count": null,
   "id": "d533f3bf",
   "metadata": {},
   "outputs": [],
   "source": [
    "\n"
   ]
  }
 ],
 "metadata": {
  "kernelspec": {
   "display_name": "Python 3 (ipykernel)",
   "language": "python",
   "name": "python3"
  },
  "language_info": {
   "codemirror_mode": {
    "name": "ipython",
    "version": 3
   },
   "file_extension": ".py",
   "mimetype": "text/x-python",
   "name": "python",
   "nbconvert_exporter": "python",
   "pygments_lexer": "ipython3",
   "version": "3.9.7"
  }
 },
 "nbformat": 4,
 "nbformat_minor": 5
}
